{
 "cells": [
  {
   "cell_type": "code",
   "execution_count": 1,
   "id": "c28366eb",
   "metadata": {},
   "outputs": [],
   "source": [
    "from tensorflow import keras\n",
    "from sklearn.neighbors import KNeighborsClassifier\n",
    "import cv2"
   ]
  },
  {
   "cell_type": "code",
   "execution_count": 2,
   "id": "52f0d2b0",
   "metadata": {},
   "outputs": [],
   "source": [
    "(x_train, y_train), (x_test, y_test) = keras.datasets.mnist.load_data()\n",
    "x_train = x_train.reshape(len(x_train), 28*28)\n",
    "x_test = x_test.reshape(len(x_test), 28*28)\n",
    "x_train, x_test = x_train / 255, x_test / 255"
   ]
  },
  {
   "cell_type": "code",
   "execution_count": 3,
   "id": "861925dc",
   "metadata": {},
   "outputs": [
    {
     "name": "stdout",
     "output_type": "stream",
     "text": [
      "Wall time: 60.8 ms\n"
     ]
    },
    {
     "data": {
      "text/plain": [
       "KNeighborsClassifier(n_neighbors=10)"
      ]
     },
     "execution_count": 3,
     "metadata": {},
     "output_type": "execute_result"
    }
   ],
   "source": [
    "%%time\n",
    "classifier = KNeighborsClassifier(n_neighbors = 10)\n",
    "classifier.fit(x_train, y_train)"
   ]
  },
  {
   "cell_type": "code",
   "execution_count": 4,
   "id": "e5458b9c",
   "metadata": {},
   "outputs": [
    {
     "name": "stdout",
     "output_type": "stream",
     "text": [
      "Wall time: 15.2 s\n"
     ]
    }
   ],
   "source": [
    "%%time\n",
    "y_pred = classifier.predict(x_test)"
   ]
  },
  {
   "cell_type": "code",
   "execution_count": 5,
   "id": "04f153df",
   "metadata": {},
   "outputs": [
    {
     "name": "stdout",
     "output_type": "stream",
     "text": [
      "96.65 %\n"
     ]
    }
   ],
   "source": [
    "acc = 0\n",
    "for i in range(10000):\n",
    "    if(y_test[i] == y_pred[i]):\n",
    "        acc+=1\n",
    "\n",
    "print(acc/100, \"%\")"
   ]
  },
  {
   "cell_type": "code",
   "execution_count": 16,
   "id": "e875d1cc",
   "metadata": {},
   "outputs": [
    {
     "name": "stdout",
     "output_type": "stream",
     "text": [
      "---The tested number:  0\n",
      "Result->  1\t\n",
      "---The tested number:  1\n",
      "Result->  1\t\n",
      "---The tested number:  2\n",
      "Result->  2\t\n",
      "---The tested number:  3\n",
      "Result->  3\t\n",
      "---The tested number:  4\n",
      "Result->  4\t\n",
      "---The tested number:  5\n",
      "Result->  5\t\n",
      "---The tested number:  6\n",
      "Result->  1\t\n",
      "---The tested number:  7\n",
      "Result->  1\t\n",
      "---The tested number:  8\n",
      "Result->  5\t\n",
      "---The tested number:  9\n",
      "Result->  4\t\n",
      "50.0 %\n"
     ]
    }
   ],
   "source": [
    "def custom_image(img_path):\n",
    "    img_path = \"C:/Users/ASUS TUF/Desktop/Quick Access/dl/custom handwritings/brush/\" + img_path\n",
    "    img2 = cv2.imread(img_path, 0)\n",
    "\n",
    "    img2 = img2 / 255\n",
    "    # img2 = np.invert(np.array([img2]))\n",
    "    img2 = img2.reshape(1, 28 * 28)\n",
    "    img2Y = int(classifier.predict(img2))\n",
    "    print(\"Result-> \", img2Y, end = \"\\t\")\n",
    "    \n",
    "    return img2Y\n",
    "\n",
    "acc = 0\n",
    "for xx in range(0, 10):\n",
    "  print(\"---The tested number: \", xx)\n",
    "\n",
    "  test1 = custom_image(f'Untitled{xx}.png')\n",
    "  if(test1 == xx) : acc+=1\n",
    "\n",
    "  print()\n",
    "\n",
    "print(acc/10*100, \"%\")"
   ]
  }
 ],
 "metadata": {
  "kernelspec": {
   "display_name": "Python 3",
   "language": "python",
   "name": "python3"
  },
  "language_info": {
   "codemirror_mode": {
    "name": "ipython",
    "version": 3
   },
   "file_extension": ".py",
   "mimetype": "text/x-python",
   "name": "python",
   "nbconvert_exporter": "python",
   "pygments_lexer": "ipython3",
   "version": "3.8.8"
  }
 },
 "nbformat": 4,
 "nbformat_minor": 5
}
